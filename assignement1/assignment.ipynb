{
 "cells": [
  {
   "cell_type": "code",
   "execution_count": 42,
   "metadata": {},
   "outputs": [],
   "source": [
    "import numpy as np\n",
    "from pprint import pprint\n",
    "\n",
    "np.random.seed(42)\n",
    "np.set_printoptions(suppress=True)"
   ]
  },
  {
   "cell_type": "code",
   "execution_count": 43,
   "metadata": {},
   "outputs": [],
   "source": [
    "activation_functions = {\n",
    "    \"sigmoid\": lambda x: 1 / (1 + np.exp(-x)),\n",
    "    \"relu\": lambda x: np.maximum(0, x),\n",
    "    \"softmax\": lambda x: np.exp(x) / np.sum(np.exp(x), axis=1, keepdims=True),\n",
    "}\n",
    "\n",
    "activation_derivatives = {\n",
    "    \"sigmoid\": lambda x: activation_functions[\"sigmoid\"](x)\n",
    "    * (1 - activation_functions[\"sigmoid\"](x)),\n",
    "    \"relu\": lambda x: np.where(x > 0, 1, 0),\n",
    "    \"softmax\": lambda x: activation_functions[\"softmax\"](x)\n",
    "    * (1 - activation_functions[\"softmax\"](x)),\n",
    "}"
   ]
  },
  {
   "cell_type": "code",
   "execution_count": 44,
   "metadata": {},
   "outputs": [],
   "source": [
    "class Layer():\n",
    "    def __init__(self, input_s: int, output_s: int, activation: str):\n",
    "        self.weights = np.random.randn(input_s, output_s) * np.sqrt(1. / input_s)\n",
    "        self.biases = np.zeros((1, output_s))\n",
    "        self.activation = activation\n",
    "\n",
    "    def forward(self, x):\n",
    "        x = x.reshape(1, self.weights.shape[0])\n",
    "        self.input = x\n",
    "        self.linear_output = np.dot(x, self.weights) + self.biases\n",
    "        self.layer_output = activation_functions[self.activation](self.linear_output)\n",
    "        return self.layer_output\n",
    "\n",
    "    def backward(self, dA):\n",
    "        activation_derivative = activation_derivatives[self.activation]\n",
    "        dZ = dA * activation_derivative(self.layer_output)\n",
    "        dW = np.dot(self.input.T, dZ) / self.input.shape[0]\n",
    "        db = np.sum(dZ, axis=0, keepdims=True) / self.input.shape[0]\n",
    "        dA_prev = np.dot(dZ, self.weights.T)\n",
    "\n",
    "        self.dW = dW\n",
    "        self.db = db\n",
    "\n",
    "        return dA_prev\n",
    "\n",
    "    def update(self, learning_rate):\n",
    "        self.weights -= learning_rate * self.dW\n",
    "        self.biases -= learning_rate * self.db"
   ]
  },
  {
   "cell_type": "code",
   "execution_count": 45,
   "metadata": {},
   "outputs": [],
   "source": [
    "class NN():\n",
    "    def __init__(self, layers: list, lr: float = 0.01):\n",
    "        self.layers = layers\n",
    "        self.learning_rate = lr\n",
    "\n",
    "    def forward(self, x):\n",
    "        for layer in self.layers:\n",
    "            x = layer.forward(x)\n",
    "        return x\n",
    "\n",
    "    def backward(self, dA):\n",
    "        for layer in reversed(self.layers):\n",
    "            dA = layer.backward(dA)\n",
    "\n",
    "    def update(self):\n",
    "        for layer in self.layers:\n",
    "            layer.update(self.learning_rate)\n",
    "\n",
    "    def __call__(self, x):\n",
    "        return self.forward(x)\n",
    "    \n",
    "    def train(self, X, epochs):\n",
    "        for epoch in range(epochs):\n",
    "            loss = []\n",
    "            for x in X:\n",
    "                y_hat = self.forward(x)\n",
    "                error = y_hat - x\n",
    "                loss.append(np.sum((error) ** 2))\n",
    "                \n",
    "                self.backward(error)\n",
    "                self.update()\n",
    "                \n",
    "            loss = np.mean(loss)\n",
    "\n",
    "            if epoch % (epochs / 10) == 0:\n",
    "                print(f\"Epoch {epoch} - Loss: {loss}\")\n"
   ]
  },
  {
   "cell_type": "code",
   "execution_count": 46,
   "metadata": {},
   "outputs": [
    {
     "name": "stdout",
     "output_type": "stream",
     "text": [
      "Epoch 0 - Loss: 1.716961070071439\n",
      "Epoch 1000 - Loss: 0.14427103033022026\n",
      "Epoch 2000 - Loss: 0.09796534340643209\n",
      "Epoch 3000 - Loss: 0.07302802801901134\n",
      "Epoch 4000 - Loss: 0.05310799243427378\n",
      "Epoch 5000 - Loss: 0.03820422270295609\n",
      "Epoch 6000 - Loss: 0.027820842281425832\n",
      "Epoch 7000 - Loss: 0.020709993425841563\n",
      "Epoch 8000 - Loss: 0.015855199935970777\n",
      "Epoch 9000 - Loss: 0.012449082191792782\n"
     ]
    }
   ],
   "source": [
    "# Data\n",
    "X = np.eye(8)\n",
    "\n",
    "hidden_layer_size = 3\n",
    "\n",
    "layers = [\n",
    "    Layer(8, hidden_layer_size, \"sigmoid\"),\n",
    "    Layer(hidden_layer_size, 8, \"sigmoid\"),\n",
    "]\n",
    "\n",
    "nn = NN(layers = layers, lr = 0.2)\n",
    "nn.train(X, 10000)\n",
    "# nn(X[0])"
   ]
  },
  {
   "cell_type": "code",
   "execution_count": 47,
   "metadata": {},
   "outputs": [
    {
     "name": "stdout",
     "output_type": "stream",
     "text": [
      "array([1., 0., 0., 0., 0., 0., 0., 0.])\n",
      "array([0., 1., 0., 0., 0., 0., 0., 0.])\n",
      "array([0., 0., 1., 0., 0., 0., 0., 0.])\n",
      "array([0., 0., 0., 1., 0., 0., 0., 0.])\n",
      "array([0., 0., 0., 0., 1., 0., 0., 0.])\n",
      "array([0., 0., 0., 0., 0., 1., 0., 0.])\n",
      "array([0., 0., 0., 0., 0., 0., 1., 0.])\n",
      "array([0., 0., 0., 0., 0., 0., 0., 1.])\n"
     ]
    }
   ],
   "source": [
    "for i in range(8):\n",
    "    pprint(np.round(nn(X[i])[0]))   "
   ]
  },
  {
   "cell_type": "code",
   "execution_count": 48,
   "metadata": {},
   "outputs": [
    {
     "name": "stdout",
     "output_type": "stream",
     "text": [
      "array([0., 0., 0., 1., 0., 0., 0., 0.])\n",
      "array([0.  , 0.02, 0.  , 0.95, 0.01, 0.01, 0.  , 0.02])\n"
     ]
    }
   ],
   "source": [
    "i = 3\n",
    "pprint(X[i])\n",
    "pprint(np.round(nn(X[i])[0], 2))"
   ]
  }
 ],
 "metadata": {
  "kernelspec": {
   "display_name": "um",
   "language": "python",
   "name": "python3"
  },
  "language_info": {
   "codemirror_mode": {
    "name": "ipython",
    "version": 3
   },
   "file_extension": ".py",
   "mimetype": "text/x-python",
   "name": "python",
   "nbconvert_exporter": "python",
   "pygments_lexer": "ipython3",
   "version": "3.11.9"
  }
 },
 "nbformat": 4,
 "nbformat_minor": 2
}
